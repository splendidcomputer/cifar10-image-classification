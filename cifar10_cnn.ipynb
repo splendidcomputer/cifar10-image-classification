{
 "cells": [
  {
   "cell_type": "markdown",
   "metadata": {},
   "source": [
    "# CIFAR-10 Image Classification using Convolutional Neural Networks (CNN)\n",
    "This notebook demonstrates how to use a Convolutional Neural Network (CNN) to classify images from the CIFAR-10 dataset using TensorFlow and Keras."
   ]
  },
  {
   "cell_type": "code",
   "execution_count": 1,
   "metadata": {},
   "outputs": [],
   "source": [
    "import tensorflow as tf\n",
    "from tensorflow.keras import datasets, layers, models\n",
    "import matplotlib.pyplot as plt\n",
    "import os"
   ]
  },
  {
   "cell_type": "markdown",
   "metadata": {},
   "source": [
    "## Load and Preprocess Data\n",
    "Load the CIFAR-10 dataset and normalize the images."
   ]
  },
  {
   "cell_type": "code",
   "execution_count": 2,
   "metadata": {},
   "outputs": [],
   "source": [
    "# Load and preprocess data\n",
    "(train_images, train_labels), (test_images, test_labels) = datasets.cifar10.load_data()\n",
    "train_images, test_images = train_images / 255.0, test_images / 255.0"
   ]
  },
  {
   "cell_type": "markdown",
   "metadata": {},
   "source": [
    "## Define Class Names\n",
    "Define the names for each class in the CIFAR-10 dataset."
   ]
  },
  {
   "cell_type": "code",
   "execution_count": 3,
   "metadata": {},
   "outputs": [],
   "source": [
    "class_names = [\n",
    "    \"airplane\",\n",
    "    \"automobile\",\n",
    "    \"bird\",\n",
    "    \"cat\",\n",
    "    \"deer\",\n",
    "    \"dog\",\n",
    "    \"frog\",\n",
    "    \"horse\",\n",
    "    \"ship\",\n",
    "    \"truck\",\n",
    "]"
   ]
  },
  {
   "cell_type": "markdown",
   "metadata": {},
   "source": [
    "## Load or Build the Model\n",
    "Check if a pre-trained model exists on disk. If it exists, load the model. Otherwise, build and train a new model."
   ]
  },
  {
   "cell_type": "code",
   "execution_count": 4,
   "metadata": {},
   "outputs": [],
   "source": [
    "model_path = \"cifar10_cnn_model.h5\"\n",
    "if os.path.exists(model_path):\n",
    "    # Load the model if it exists\n",
    "    model = tf.keras.models.load_model(model_path)\n",
    "    print(\"Model loaded from disk.\")\n",
    "else:\n",
    "    # Build and train the model if it doesn't exist\n",
    "    model = models.Sequential(\n",
    "        [\n",
    "            layers.Conv2D(32, (3, 3), activation=\"relu\", input_shape=(32, 32, 3)),\n",
    "            layers.MaxPooling2D((2, 2)),\n",
    "            layers.Conv2D(64, (3, 3), activation=\"relu\"),\n",
    "            layers.MaxPooling2D((2, 2)),\n",
    "            layers.Conv2D(64, (3, 3), activation=\"relu\"),\n",
    "            layers.Flatten(),\n",
    "            layers.Dense(64, activation=\"relu\"),\n",
    "            layers.Dense(10),\n",
    "        ]\n",
    "    )\n",
    "\n",
    "    model.compile(\n",
    "        optimizer=\"adam\",\n",
    "        loss=tf.keras.losses.SparseCategoricalCrossentropy(from_logits=True),\n",
    "        metrics=[\"accuracy\"],\n",
    "    )\n",
    "    model.fit(\n",
    "        train_images,\n",
    "        train_labels,\n",
    "        epochs=10,\n",
    "        validation_data=(test_images, test_labels),\n",
    "    )\n",
    "\n",
    "    # Save the model\n",
    "    model.save(model_path)\n",
    "    print(\"Model saved to disk.\")"
   ]
  },
  {
   "cell_type": "markdown",
   "metadata": {},
   "source": [
    "## Define Helper Functions\n",
    "Functions to classify an image and display the image with its predicted and true labels."
   ]
  },
  {
   "cell_type": "code",
   "execution_count": 5,
   "metadata": {},
   "outputs": [],
   "source": [
    "def classify_image(image):\n",
    "    img_array = tf.expand_dims(image, 0)  # Create a batch\n",
    "    predictions = model.predict(img_array)\n",
    "    predicted_class = tf.argmax(predictions[0]).numpy()\n",
    "    return class_names[predicted_class]\n",
    "\n",
    "\n",
    "# Display the image with its predicted class\n",
    "def show_image_with_prediction(image, true_label):\n",
    "    predicted_label = classify_image(image)\n",
    "    plt.figure()\n",
    "    plt.imshow(image)\n",
    "    plt.title(f\"Predicted: {predicted_label}, True: {true_label}\")\n",
    "    plt.axis(\"off\")\n",
    "    plt.show()"
   ]
  },
  {
   "cell_type": "markdown",
   "metadata": {},
   "source": [
    "## Classify and Display an Image\n",
    "Classify a test image and display it with the predicted and true labels."
   ]
  },
  {
   "cell_type": "code",
   "execution_count": 6,
   "metadata": {},
   "outputs": [],
   "source": [
    "class_pred = classify_image(test_images[2])\n",
    "show_image_with_prediction(test_images[2], class_pred)"
   ]
  }
 ],
 "metadata": {
  "kernelspec": {
   "display_name": "Python 3",
   "language": "python",
   "name": "python3"
  },
  "language_info": {
   "name": "python",
   "version": "3.8"
  }
 },
 "nbformat": 4,
 "nbformat_minor": 2
}
